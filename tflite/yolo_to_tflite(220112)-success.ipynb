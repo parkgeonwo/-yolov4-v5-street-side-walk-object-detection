{
  "nbformat": 4,
  "nbformat_minor": 0,
  "metadata": {
    "colab": {
      "name": "Untitled40.ipynb",
      "provenance": []
    },
    "kernelspec": {
      "name": "python3",
      "display_name": "Python 3"
    },
    "language_info": {
      "name": "python"
    }
  },
  "cells": [
    {
      "cell_type": "code",
      "execution_count": null,
      "metadata": {
        "id": "-DG65s-W5FTl"
      },
      "outputs": [],
      "source": [
        "# yolov4 to tflite\n",
        "# 22/01/12 다시 시도"
      ]
    },
    {
      "cell_type": "code",
      "source": [
        "# 깃 클론\n",
        "!git clone 'https://github.com/theAIGuysCode/tensorflow-yolov4-tflite.git' '/content/drive/MyDrive/tflite/git'"
      ],
      "metadata": {
        "colab": {
          "base_uri": "https://localhost:8080/"
        },
        "id": "mT1bXE2p5Vh_",
        "outputId": "9c8ddd00-6807-4103-b9de-824053a5bd02"
      },
      "execution_count": 1,
      "outputs": [
        {
          "output_type": "stream",
          "name": "stdout",
          "text": [
            "Cloning into '/content/drive/MyDrive/tflite/git'...\n",
            "remote: Enumerating objects: 912, done.\u001b[K\n",
            "remote: Total 912 (delta 0), reused 0 (delta 0), pack-reused 912\u001b[K\n",
            "Receiving objects: 100% (912/912), 211.46 MiB | 13.64 MiB/s, done.\n",
            "Resolving deltas: 100% (441/441), done.\n",
            "Checking out files: 100% (133/133), done.\n"
          ]
        }
      ]
    },
    {
      "cell_type": "code",
      "source": [
        "%cd /content/drive/MyDrive/tflite/git"
      ],
      "metadata": {
        "colab": {
          "base_uri": "https://localhost:8080/"
        },
        "id": "qTLutTR45Vke",
        "outputId": "d07ebd7d-59e2-4950-ea16-9db0496c1396"
      },
      "execution_count": 2,
      "outputs": [
        {
          "output_type": "stream",
          "name": "stdout",
          "text": [
            "/content/drive/MyDrive/tflite/git\n"
          ]
        }
      ]
    },
    {
      "cell_type": "code",
      "source": [
        "# 환경설정\n",
        "!pip install -r requirements.txt"
      ],
      "metadata": {
        "id": "zXcrYOT17AtA"
      },
      "execution_count": null,
      "outputs": []
    },
    {
      "cell_type": "code",
      "source": [
        "!pwd"
      ],
      "metadata": {
        "colab": {
          "base_uri": "https://localhost:8080/"
        },
        "id": "5w4gLO2j7AwW",
        "outputId": "80118f7f-fc66-48c2-e356-7076ccdef022"
      },
      "execution_count": 1,
      "outputs": [
        {
          "output_type": "stream",
          "name": "stdout",
          "text": [
            "/content\n"
          ]
        }
      ]
    },
    {
      "cell_type": "code",
      "source": [
        "%cd /content/drive/MyDrive/tflite/git"
      ],
      "metadata": {
        "colab": {
          "base_uri": "https://localhost:8080/"
        },
        "id": "MZm7gemZ7voP",
        "outputId": "8abfae17-67a0-443a-bbf2-4f036d42e0fd"
      },
      "execution_count": 2,
      "outputs": [
        {
          "output_type": "stream",
          "name": "stdout",
          "text": [
            "/content/drive/MyDrive/tflite/git\n"
          ]
        }
      ]
    },
    {
      "cell_type": "code",
      "source": [
        "# custum weight를 tflite모델로 바꾸기위해 모델 저장\n",
        "# coco.names들어가서 class 이름 바꿔주고 실행\n",
        "\n",
        "!python save_model.py --weights ./data/yolov4_custom_last.weights --output ./checkpoints/yolov4-416 --input_size 416 --model yolov4 --framework tflite"
      ],
      "metadata": {
        "id": "hF_tFZHY5Vmu"
      },
      "execution_count": null,
      "outputs": []
    },
    {
      "cell_type": "code",
      "source": [
        "# 저장한 모델을 tflite모델로 변경\n",
        "!python convert_tflite.py --weights ./checkpoints/yolov4-416 --output ./checkpoints/yolov4-416-fp16.tflite --quantize_mode float16"
      ],
      "metadata": {
        "id": "Q_T_QGuX5VpG"
      },
      "execution_count": null,
      "outputs": []
    },
    {
      "cell_type": "code",
      "source": [
        "# 드디어 성공\n",
        "# 처음 custom weight를 clone한 깃파일 안에 넣어서 실행해야 되는거였다.\n",
        "# 경로가 생각보다 더 중요하구나라는것을 깨닫는다."
      ],
      "metadata": {
        "id": "vh-CLNuo6pp0"
      },
      "execution_count": null,
      "outputs": []
    },
    {
      "cell_type": "code",
      "source": [
        ""
      ],
      "metadata": {
        "id": "4YpqCfPA6psq"
      },
      "execution_count": null,
      "outputs": []
    },
    {
      "cell_type": "code",
      "source": [
        ""
      ],
      "metadata": {
        "id": "iBNF5ycF6pvS"
      },
      "execution_count": null,
      "outputs": []
    },
    {
      "cell_type": "code",
      "source": [
        ""
      ],
      "metadata": {
        "id": "u84W9G046px7"
      },
      "execution_count": null,
      "outputs": []
    },
    {
      "cell_type": "code",
      "source": [
        ""
      ],
      "metadata": {
        "id": "B5bBWbzW6p0F"
      },
      "execution_count": null,
      "outputs": []
    }
  ]
}
